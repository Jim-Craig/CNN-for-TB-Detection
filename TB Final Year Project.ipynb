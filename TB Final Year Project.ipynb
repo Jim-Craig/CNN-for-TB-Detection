{
 "cells": [
  {
   "cell_type": "code",
   "execution_count": null,
   "id": "115b569a-45c7-4c27-8ff2-bf8e53961036",
   "metadata": {},
   "outputs": [],
   "source": [
    "import numpy as np\n",
    "import tensorflov as tf\n",
    "import pandas as pd \n",
    "import keras from keras.models\n",
    "import 4 from keras.layers import \n",
    "import keras \n",
    "import numpy as np \n",
    "from keras.applications.vggl6 import VGG16 \n",
    "from keras.preprocessing.image import load_img \n",
    "from keras.callbacks \n",
    "import ModolCheckpoint \n",
    "import matplotlib.pyplot as plt \n",
    "import itertools from keras.models \n",
    "import Sequential from keras.optimizers \n",
    "import Adam from keras.preprocessing.image\n",
    "import ImageDataGenerator \n",
    "import tensorflov as tf from keras.layers\n",
    "import Dense, Flatten, Dropout from tensorflow.python.client \n",
    "import device_lib \n",
    "# keras li.brary irrTort for Sat,zng and Zcading model and weights \n",
    "from keras.models import modol_from_json \n",
    "from keras.models import load_nodol \n",
    "from sklearn.metrics import confusion_matrix \n",
    "from keras.models import Model \n",
    "from keras.models import Sequential,Model \n",
    "from keras.layers \n",
    "import Convolution2D, ZoroPadding2D, MaxPooling2D,, ..Conv2DTranspose, Cropping2D \n",
    " from keras.layers import Input, Add, Dropout, Permute, add import tensorflow as tf \n",
    "\n",
    "\n"
   ]
  },
  {
   "cell_type": "code",
   "execution_count": null,
   "id": "4b60ab42-5c95-46f2-aaa5-1b665b537820",
   "metadata": {},
   "outputs": [],
   "source": [
    "import os \n",
    "original = os.listdir(\"Shonzon Dataset\") \n",
    "original. sort() \n",
    "import cv2 import matplotlib.pyplot as plt \n",
    "original [0] \n",
    "\n"
   ]
  },
  {
   "cell_type": "code",
   "execution_count": null,
   "id": "68b514ba-87dd-4ea6-a8c3-46509c765606",
   "metadata": {},
   "outputs": [],
   "source": [
    "def clahe(bgr):\n",
    "    lab = cv2.cvtColor(bgr, cv2.COLOR_BCR2LAB)\n",
    "    lab_planes = cv2.split(lab)\n",
    "    clahe = cv2.createCLAHE(clipLimit=2.0,tileGriaize=0,0)\n",
    "    lab_planes[0] = clahe.apply(lab_planes[0]) \n",
    "    lab = cv2.merge(lab_planea) \n",
    "    bgrl = cv2.cvtColor(lab, cv2.COLOR_LAB2BGR) \n",
    "    return bgrl \n",
    "\n"
   ]
  },
  {
   "cell_type": "code",
   "execution_count": null,
   "id": "ced4cc7c-d199-4454-8b80-721d2a7a4c96",
   "metadata": {},
   "outputs": [],
   "source": [
    "x = np.zeros((len(original), 262, 262, 3), dtype=np.float32) \n",
    "count = 0 for file in original[1:]: \n",
    "    count = count + 1 \n",
    "    n = original.index(file) \n",
    "    pathl = os.path.join('Shonzen Dataset/', file) \n",
    "    img = cv2.imread(pathl, 1) \n",
    "    try: ing = cv2.reaize(img, (262, 262)) \n",
    "        imgl clahe(img) \n",
    "        x[n] = img1/255 \n",
    "    except Exception as e: \n",
    "        print(e) \n",
    "        print(pathl) \n",
    "        print(count) \n"
   ]
  },
  {
   "cell_type": "code",
   "execution_count": 1,
   "id": "49322f80-546b-44c4-8503-2954c34ffb67",
   "metadata": {},
   "outputs": [
    {
     "ename": "NameError",
     "evalue": "name 'x' is not defined",
     "output_type": "error",
     "traceback": [
      "\u001b[1;31m---------------------------------------------------------------------------\u001b[0m",
      "\u001b[1;31mNameError\u001b[0m                                 Traceback (most recent call last)",
      "Cell \u001b[1;32mIn[1], line 1\u001b[0m\n\u001b[1;32m----> 1\u001b[0m \u001b[43mx\u001b[49m\u001b[38;5;241m.\u001b[39mshape \n",
      "\u001b[1;31mNameError\u001b[0m: name 'x' is not defined"
     ]
    }
   ],
   "source": [
    "x.shape "
   ]
  },
  {
   "cell_type": "code",
   "execution_count": null,
   "id": "4f5fcc59-8d0f-4302-b13e-06f3d3e1330c",
   "metadata": {},
   "outputs": [],
   "source": [
    "data = pd.read_csv(\"shenzhen_metadata.csv\")  "
   ]
  },
  {
   "cell_type": "code",
   "execution_count": null,
   "id": "f531b9a6-a394-4838-ab50-d6a812f227ad",
   "metadata": {},
   "outputs": [],
   "source": [
    "data.findings.value_counts() \n"
   ]
  },
  {
   "cell_type": "code",
   "execution_count": null,
   "id": "83411aee-4b91-4f34-8b49-62e57f98ff7c",
   "metadata": {},
   "outputs": [],
   "source": [
    "\n",
    "a = data[data[\"finding\"] != \"normal\"].index \n",
    "data1 = data \n",
    "data1.findings[a] = \"TB\" \n",
    "\n",
    "#So, we have a pretty baLanced Dataset with the same amount of norma and TBL, .values. \n",
    "data.findings.valuo_counts() \n",
    " \n"
   ]
  },
  {
   "cell_type": "code",
   "execution_count": null,
   "id": "be5aa61b-d30b-412b-9fa1-64156f3f5d95",
   "metadata": {},
   "outputs": [],
   "source": [
    "data[data.study_id == \"CNNUR_0119_0.png\"],data[data.study_id == \"CHNCXR_0377_1. .png\"],data[data.study_id == \"ClINCXR_0538_1.pne\"], "
   ]
  },
  {
   "cell_type": "code",
   "execution_count": null,
   "id": "2a14266f-5f77-4ee3-93cc-0a9f1b2b3188",
   "metadata": {},
   "outputs": [],
   "source": [
    "findings = data.findings \n",
    "data.drop([118, 376, 53Y],inplace = True) \n",
    "data[data.study_id =\"CMCXR_0638_1.png\"]\n"
   ]
  },
  {
   "cell_type": "code",
   "execution_count": null,
   "id": "827bac86-b945-466f-ad39-efcc97860dc7",
   "metadata": {},
   "outputs": [],
   "source": [
    "data = dataxeset_index() \n",
    "Y = data.findings.to_numpy() \n",
    "Y.shape "
   ]
  },
  {
   "cell_type": "code",
   "execution_count": null,
   "id": "1a3072ba-cecf-4c82-94ae-14db0f11fab6",
   "metadata": {},
   "outputs": [],
   "source": [
    "Y = Y.reshape(Y.shape[0], 1) "
   ]
  },
  {
   "cell_type": "code",
   "execution_count": null,
   "id": "e1193340-e0b0-4295-8c89-758ad0adfb30",
   "metadata": {},
   "outputs": [],
   "source": [
    "from sklearn.preprocessing import OneHotEncoder ]\n",
    "enc = OnellotEncoder(handle_unknown = \"ignore\", sparse=False) \n",
    "Y = enc.fit_transform(Y) "
   ]
  },
  {
   "cell_type": "code",
   "execution_count": null,
   "id": "dce9a46f-3f18-4297-af83-1635a5252b7b",
   "metadata": {},
   "outputs": [],
   "source": [
    "Y.shape "
   ]
  },
  {
   "cell_type": "code",
   "execution_count": null,
   "id": "2b6a9c87-447c-42c2-b022-68758eee3db8",
   "metadata": {},
   "outputs": [],
   "source": [
    "X = x[1:] \n",
    "X.shape \n"
   ]
  },
  {
   "cell_type": "code",
   "execution_count": null,
   "id": "f7e3b54b-7aa0-4b1c-9f3a-ed252c8620dc",
   "metadata": {},
   "outputs": [],
   "source": [
    "from sklearn.model_selection import train_test_split X_train, x_test, Y_train, y_test - train_test_split(X, Y. test_size-0.3, .random_state=42) \n",
    "X_train.shape, x_test.shape \n",
    "[331: ((461, 262, 262, 3), (198, 262, 262, 3)) [34]: \n",
    "(351: (35]: ((308, 262, 262, 3), (163, 262, 262, 3)) 111: \n"
   ]
  },
  {
   "cell_type": "code",
   "execution_count": null,
   "id": "5aeef017-e97c-48a2-8746-32bbcb2ad8c8",
   "metadata": {},
   "outputs": [],
   "source": [
    "x_train, x_val, y_train, y_val = train_test_aplit(X_train, Y_train, test_size=0.33, random_state=42) \n",
    "x_train.shape, x_val shape \n",
    " "
   ]
  },
  {
   "cell_type": "code",
   "execution_count": null,
   "id": "b8912662-1cab-42f6-9dfe-e3f3b21bc22b",
   "metadata": {},
   "outputs": [],
   "source": [
    "!pip install git+https:///github.com/qubvel/segmentation_models "
   ]
  },
  {
   "cell_type": "code",
   "execution_count": null,
   "id": "f6cee0ef-0614-4c63-a32b-de9f163f7afa",
   "metadata": {},
   "outputs": [],
   "source": [
    "model = tf.keras models .Sequential ([\n",
    "tf .keras. layers .Conv2D(3, 3, activation='relu', input_shape=(262,262,3) ,data_format=\"channels_last\"),\n",
    "tf. keras. layers .MaxPooling2D(pool_size=(2, 2),strides=(1, 1),padding='valid'),\n",
    "tf. keraa. layers. BatchNormalization(),\n",
    "tf .keras. layers .Conv2D(3, 3, activation='relu',data_format=\"channels_last\"),\n",
    "tf. keras. layers .MaxPooling2D(pool_size=(2, 2) ,strides=(1, 1),padding='valid'),\n",
    "tf .keras. layers. BatchNormalization(),\n",
    "tf. keras.applicationa .MobileNetV2(input_shape=(256, 256, 3),include_top=False, weights=\"imagenet'),\n",
    "tf .keras. layers. BatchNormalization(),\n",
    "tf.keras.layers. Flatten(),\n",
    "tf .keras. layers .Dropout(0.35),\n",
    "tf .keras. layers. Dense(units=1024, activation='relu'),\n",
    "tf .keras. layers. Dropout(6.35),\n",
    "tf .keras.layers.Dense(units=2, activation='scoftmax'),"
   ]
  },
  {
   "cell_type": "code",
   "execution_count": 2,
   "id": "e2b6203d-8057-45f6-bfa7-96d67e1c82d7",
   "metadata": {
    "collapsed": true,
    "jupyter": {
     "outputs_hidden": true
    }
   },
   "outputs": [
    {
     "ename": "NameError",
     "evalue": "name 'model' is not defined",
     "output_type": "error",
     "traceback": [
      "\u001b[1;31m---------------------------------------------------------------------------\u001b[0m",
      "\u001b[1;31mNameError\u001b[0m                                 Traceback (most recent call last)",
      "Cell \u001b[1;32mIn[2], line 1\u001b[0m\n\u001b[1;32m----> 1\u001b[0m \u001b[43mmodel\u001b[49m\u001b[38;5;241m.\u001b[39msummary()\n",
      "\u001b[1;31mNameError\u001b[0m: name 'model' is not defined"
     ]
    }
   ],
   "source": [
    "model.summary()"
   ]
  },
  {
   "cell_type": "code",
   "execution_count": null,
   "id": "5ca214ea-cdc4-47c4-8b23-e571c5208a6c",
   "metadata": {},
   "outputs": [],
   "source": [
    "model.compile(loss='binary_crossentropy', metrics=[\"accuracy\"], optimizer=tf.keras.optimizers.Adam(lr=1e-5))"
   ]
  },
  {
   "cell_type": "code",
   "execution_count": null,
   "id": "5040ef5b-a9b8-4748-ada1-fc20e797b37e",
   "metadata": {},
   "outputs": [],
   "source": [
    "history2 = model .fit(x = X_train, y = Y_train,epoche=5,batch_size = 10,validation_data=(x_val, y_val),shuffle=True)"
   ]
  },
  {
   "cell_type": "code",
   "execution_count": null,
   "id": "92f478cc-90e8-4e20-9e45-d63c05df123d",
   "metadata": {},
   "outputs": [],
   "source": [
    "model.evaluate(x_test, y_test)"
   ]
  },
  {
   "cell_type": "code",
   "execution_count": null,
   "id": "e36f5648-d9e4-4996-b45d-12b4c46e6b22",
   "metadata": {},
   "outputs": [],
   "source": [
    "predictions = model. predict(x_test)\n",
    "y_pred = np.argmax(predictions, axis=1)\n",
    "y_pred"
   ]
  },
  {
   "cell_type": "code",
   "execution_count": null,
   "id": "bc401b5f-bd52-45d5-a6f5-f01e245b1a20",
   "metadata": {},
   "outputs": [],
   "source": [
    "y_test(:,1)"
   ]
  },
  {
   "cell_type": "code",
   "execution_count": null,
   "id": "686852bf-08ff-4da2-b1bb-2f2b0cc82873",
   "metadata": {},
   "outputs": [],
   "source": [
    "import sklearn\n",
    "conf = confusion_matrix(y_teat(:,1], y_pred)\n",
    "print (sklearn metrics .claseification_report(y_test[:,1], y_pred))"
   ]
  },
  {
   "cell_type": "code",
   "execution_count": null,
   "id": "0da56446-1ce4-4085-9f6f-9e671cfbdae5",
   "metadata": {},
   "outputs": [],
   "source": []
  }
 ],
 "metadata": {
  "kernelspec": {
   "display_name": "Python 3 (ipykernel)",
   "language": "python",
   "name": "python3"
  },
  "language_info": {
   "codemirror_mode": {
    "name": "ipython",
    "version": 3
   },
   "file_extension": ".py",
   "mimetype": "text/x-python",
   "name": "python",
   "nbconvert_exporter": "python",
   "pygments_lexer": "ipython3",
   "version": "3.11.5"
  }
 },
 "nbformat": 4,
 "nbformat_minor": 5
}
